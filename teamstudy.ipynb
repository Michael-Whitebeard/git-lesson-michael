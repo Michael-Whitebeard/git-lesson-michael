{
  "nbformat": 4,
  "nbformat_minor": 0,
  "metadata": {
    "colab": {
      "name": "teamstudy.ipynb",
      "provenance": [],
      "authorship_tag": "ABX9TyORbs18ZgG64c3elr78kPQp",
      "include_colab_link": true
    },
    "kernelspec": {
      "name": "python3",
      "display_name": "Python 3"
    },
    "language_info": {
      "name": "python"
    }
  },
  "cells": [
    {
      "cell_type": "markdown",
      "metadata": {
        "id": "view-in-github",
        "colab_type": "text"
      },
      "source": [
        "<a href=\"https://colab.research.google.com/github/Mucahit-A/git-lesson/blob/main/teamstudy.ipynb\" target=\"_parent\"><img src=\"https://colab.research.google.com/assets/colab-badge.svg\" alt=\"Open In Colab\"/></a>"
      ]
    },
    {
      "cell_type": "code",
      "execution_count": 4,
      "metadata": {
        "colab": {
          "base_uri": "https://localhost:8080/",
          "height": 36
        },
        "id": "9anzp8yI4pev",
        "outputId": "154a0e39-cff8-4b9d-f004-d17573a3f38c"
      },
      "outputs": [
        {
          "output_type": "execute_result",
          "data": {
            "application/vnd.google.colaboratory.intrinsic+json": {
              "type": "string"
            },
            "text/plain": [
              "'10000000001000000000101000000001'"
            ]
          },
          "metadata": {},
          "execution_count": 4
        }
      ],
      "source": [
        "#verilen sayinin 32 bitlik IPv4 formatina cevirme\n",
        "\n",
        "x = 2149583361\n",
        "turned = \"{0:b}\".format(x).rjust(32, \"0\")\n",
        "turned"
      ]
    },
    {
      "cell_type": "code",
      "source": [
        "def function(a):\n",
        "  turned = \"{0:b}\".format(a).rjust(32, \"0\")\n",
        "  return \".\".join([str(int(turned[x : x + 8], 2)) for x in range(0, len(turned), 8)])\n",
        "\n",
        "function(2149583361)"
      ],
      "metadata": {
        "colab": {
          "base_uri": "https://localhost:8080/",
          "height": 36
        },
        "id": "NV5A0_8Y4w3u",
        "outputId": "9ddec791-db6e-417c-a8e0-43934fcba1da"
      },
      "execution_count": 1,
      "outputs": [
        {
          "output_type": "execute_result",
          "data": {
            "application/vnd.google.colaboratory.intrinsic+json": {
              "type": "string"
            },
            "text/plain": [
              "'128.32.10.1'"
            ]
          },
          "metadata": {},
          "execution_count": 1
        }
      ]
    },
    {
      "cell_type": "code",
      "source": [
        "# girilen text in sifrelenerek gosterimi\n",
        "\n",
        "alpha = \"abcdefghijklmnopqrstuvwxyz\"\n",
        "vowels = \"eaiou\"\n",
        "\n",
        "def stringchallenge(text):\n",
        "  new_text = \"\"\n",
        "  for i in text :\n",
        "    if i.isalpha():\n",
        "      new_text += alpha[(alpha.index(i) + 1) % len(alpha)]\n",
        "    else :\n",
        "      new_text += i\n",
        "\n",
        "      for j in new_text:\n",
        "        if j in vowels:\n",
        "          new_text = new_text.replace(j, j.upper())\n",
        "  return new_text\n",
        "\n",
        "stringchallenge(\"hello*3\")"
      ],
      "metadata": {
        "colab": {
          "base_uri": "https://localhost:8080/",
          "height": 36
        },
        "id": "X8FsSqno4w0r",
        "outputId": "5b6f55ad-e4f8-49b9-89eb-5c5f3c9300e8"
      },
      "execution_count": 12,
      "outputs": [
        {
          "output_type": "execute_result",
          "data": {
            "application/vnd.google.colaboratory.intrinsic+json": {
              "type": "string"
            },
            "text/plain": [
              "'Ifmmp*3'"
            ]
          },
          "metadata": {},
          "execution_count": 12
        }
      ]
    },
    {
      "cell_type": "code",
      "source": [
        ""
      ],
      "metadata": {
        "id": "jDIf1d5HALpB"
      },
      "execution_count": 13,
      "outputs": []
    },
    {
      "cell_type": "code",
      "source": [
        "import random\n",
        "# zar atim tekrar sayilari\n",
        "throw = []\n",
        "for i in range(5):\n",
        "  throw += [random.randint(1,6)]\n",
        "print(throw)\n",
        "my_dict = {\"1\" : 0, \"2\" : 0, \"3\" : 0, \"4\" : 0, \"5\" : 0, \"6\" : 0 }\n",
        "point = 0\n",
        "\n",
        "for i in range(len(throw)) :\n",
        "  my_dict[str(throw[i])] += 1\n",
        "\n",
        "result = list(my_dict.values())\n",
        "print(result)\n",
        "\n"
      ],
      "metadata": {
        "colab": {
          "base_uri": "https://localhost:8080/"
        },
        "id": "mDUEAAYw4wyT",
        "outputId": "3edf5959-ed89-4195-caa5-7ac4fc3ad0a5"
      },
      "execution_count": 24,
      "outputs": [
        {
          "output_type": "stream",
          "name": "stdout",
          "text": [
            "[6, 1, 4, 3, 3]\n",
            "[1, 0, 2, 1, 0, 1]\n"
          ]
        }
      ]
    },
    {
      "cell_type": "code",
      "source": [
        ""
      ],
      "metadata": {
        "id": "pJOMHZTU4wWS"
      },
      "execution_count": null,
      "outputs": []
    },
    {
      "cell_type": "code",
      "source": [
        ""
      ],
      "metadata": {
        "id": "R0YJvvYU4wT0"
      },
      "execution_count": null,
      "outputs": []
    },
    {
      "cell_type": "code",
      "source": [
        ""
      ],
      "metadata": {
        "id": "K09FD2L34wRP"
      },
      "execution_count": null,
      "outputs": []
    },
    {
      "cell_type": "code",
      "source": [
        ""
      ],
      "metadata": {
        "id": "n_JFWS904wOr"
      },
      "execution_count": null,
      "outputs": []
    }
  ]
}